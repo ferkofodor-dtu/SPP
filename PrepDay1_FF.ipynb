{
 "cells": [
  {
   "attachments": {},
   "cell_type": "markdown",
   "metadata": {},
   "source": [
    "## 1. Write a simple function"
   ]
  },
  {
   "cell_type": "code",
   "execution_count": 33,
   "metadata": {},
   "outputs": [
    {
     "name": "stdout",
     "output_type": "stream",
     "text": [
      "Hello, world!\n"
     ]
    }
   ],
   "source": [
    "def greet(s):\n",
    "    print(f\"Hello, {s}!\")\n",
    "\n",
    "greet(\"world\")"
   ]
  },
  {
   "attachments": {},
   "cell_type": "markdown",
   "metadata": {},
   "source": [
    "## 2. If/else statements"
   ]
  },
  {
   "cell_type": "code",
   "execution_count": 34,
   "metadata": {},
   "outputs": [
    {
     "name": "stdout",
     "output_type": "stream",
     "text": [
      "Too small!\n",
      "Just right :)\n",
      "Just right :)\n",
      "Too large!\n"
     ]
    }
   ],
   "source": [
    "def goldilocks(size):\n",
    "    if size >= 140 and size <= 150:\n",
    "        print('Just right :)')\n",
    "    elif size > 150:\n",
    "        print('Too large!')\n",
    "    else:\n",
    "        print('Too small!')\n",
    "\n",
    "goldilocks(139)\n",
    "goldilocks(140)\n",
    "goldilocks(150)\n",
    "goldilocks(151)"
   ]
  },
  {
   "attachments": {},
   "cell_type": "markdown",
   "metadata": {},
   "source": [
    "## 3. For loops"
   ]
  },
  {
   "cell_type": "code",
   "execution_count": 35,
   "metadata": {},
   "outputs": [
    {
     "data": {
      "text/plain": [
       "[1, 4, 9, 16, 25, 36, 49, 64, 81, 100]"
      ]
     },
     "execution_count": 35,
     "metadata": {},
     "output_type": "execute_result"
    }
   ],
   "source": [
    "def square_list(lst):\n",
    "    a = [x**2 for x in lst]\n",
    "    return a\n",
    "\n",
    "square_list([1,2,3,4,5,6,7,8,9,10])"
   ]
  },
  {
   "attachments": {},
   "cell_type": "markdown",
   "metadata": {},
   "source": [
    "## 4. While loops"
   ]
  },
  {
   "cell_type": "code",
   "execution_count": 48,
   "metadata": {},
   "outputs": [
    {
     "data": {
      "text/plain": [
       "[1, 1, 2, 3, 5, 8, 13, 21, 34, 55, 89, 144, 233, 377]"
      ]
     },
     "execution_count": 48,
     "metadata": {},
     "output_type": "execute_result"
    }
   ],
   "source": [
    "def fibonacci_stop(stop):\n",
    "    fibonacci = [1,1]\n",
    "    while fibonacci[-1] + fibonacci[-2] < stop:\n",
    "        fibonacci.append(fibonacci[-1] + fibonacci[-2])\n",
    "    return fibonacci      \n",
    "\n",
    "fibonacci_stop(400)  "
   ]
  },
  {
   "attachments": {},
   "cell_type": "markdown",
   "metadata": {},
   "source": [
    "## 5. Logical operators"
   ]
  },
  {
   "cell_type": "code",
   "execution_count": 47,
   "metadata": {},
   "outputs": [
    {
     "data": {
      "text/plain": [
       "[-999, 2, 6, 95, -999]"
      ]
     },
     "execution_count": 47,
     "metadata": {},
     "output_type": "execute_result"
    }
   ],
   "source": [
    "def clean_pitch(x, status):\n",
    "    for i, value in enumerate(x):\n",
    "        c1 = value > 90\n",
    "        c2 = value < 0\n",
    "        if status[i] and (c1 or c2):\n",
    "            x[i] = -999\n",
    "    return x \n",
    "\n",
    "\n",
    "x = [-1, 2, 6, 95, 95]  # \"raw\" pitch angle at four time steps\n",
    "status = [1, 0, 0, 0, 1]  # status signal\n",
    "\n",
    "clean_pitch(x, status)"
   ]
  }
 ],
 "metadata": {
  "kernelspec": {
   "display_name": ".venv",
   "language": "python",
   "name": "python3"
  },
  "language_info": {
   "codemirror_mode": {
    "name": "ipython",
    "version": 3
   },
   "file_extension": ".py",
   "mimetype": "text/x-python",
   "name": "python",
   "nbconvert_exporter": "python",
   "pygments_lexer": "ipython3",
   "version": "3.10.2"
  },
  "orig_nbformat": 4,
  "vscode": {
   "interpreter": {
    "hash": "2d3b6b21647b3832c163798ff8342491b516f0923be1ad4d3c97afd550c40d2f"
   }
  }
 },
 "nbformat": 4,
 "nbformat_minor": 2
}
